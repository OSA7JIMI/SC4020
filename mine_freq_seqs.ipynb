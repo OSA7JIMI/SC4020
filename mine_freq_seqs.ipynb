{
 "cells": [
  {
   "cell_type": "code",
   "execution_count": 1,
   "id": "b6a8b568-bf77-4463-b350-ad4520c84019",
   "metadata": {},
   "outputs": [],
   "source": [
    "import pandas as pd\n",
    "import numpy as np\n",
    "from shapely import wkt\n",
    "import datetime as dt\n",
    "import time"
   ]
  },
  {
   "cell_type": "markdown",
   "id": "eff26439-6b94-4b50-845c-78049fb9e356",
   "metadata": {},
   "source": [
    "# Count support for all candidate 1-sequences"
   ]
  },
  {
   "cell_type": "code",
   "execution_count": 2,
   "id": "df7628dc-aa83-4c34-beee-83c7d8007182",
   "metadata": {},
   "outputs": [],
   "source": [
    "def isSubseq(seq, sub):\n",
    "    n = len(seq)\n",
    "    m = len(sub)\n",
    "    j = 0\n",
    "\n",
    "    for i in range(n):\n",
    "        if seq[i] == sub[j]:\n",
    "            j+=1\n",
    "        if j == m:\n",
    "            return True\n",
    "    return False\n",
    "\n",
    "def GSP(data, support, city):\n",
    "    # Due to the scale of the data, limit the frequency mining to only the first month's data (30 days) to manage computational demands effectively.\n",
    "    data['finished_at'] = pd.to_datetime(data['finished_at'])\n",
    "    day31 = pd.date_range(\"1970-01-31\", periods=1, freq=\"h\")\n",
    "    day31 = pd.to_datetime(day31, utc = True)\n",
    "    data = data[data['finished_at']<day31[0]]\n",
    "    \n",
    "    data['geom'] = data['geom'].apply(wkt.loads)\n",
    "    data['sequences'] = data['geom'].apply(lambda x: np.round(np.array(list(x.coords)))) # round to integer and create a list of coordinates\n",
    "    data = data.reset_index(drop=True)\n",
    "\n",
    "    print(data.shape)\n",
    "\n",
    "    # use array to record subsequence counts with format [[elements], support, [support_indexes]]\n",
    "    sequence_count = len(data)\n",
    "    sequences = []\n",
    "    items = set()\n",
    "    \n",
    "    for i in range(sequence_count):\n",
    "        part = list(map(tuple, data['sequences'].iloc[i]))\n",
    "        sequences.append(part)\n",
    "        \n",
    "    try:\n",
    "        freq_df = pd.read_pickle(f'1-set_support_{city}.pkl')\n",
    "\n",
    "    except:\n",
    "        for i in range(sequence_count):\n",
    "            for j in range(len(sequences[i])):\n",
    "                items.add(tuple(sequences[i][j]))\n",
    "    \n",
    "        print(f'Candidate 1-sequences for city {city}: {len(items)}')\n",
    "    \n",
    "        freq_arr = []\n",
    "        \n",
    "        # count occurrences of candidate 1-sequences\n",
    "        for item in items:\n",
    "            support = 0\n",
    "            support_indexes = []\n",
    "            for i in range(sequence_count):\n",
    "                if item in sequences[i]:\n",
    "                    support+=1\n",
    "                    support_indexes.append(i)\n",
    "                    \n",
    "            freq_arr.append([item, support, support_indexes])\n",
    "    \n",
    "        freq_df = pd.DataFrame(freq_arr, columns = ['itemset', 'support', 'support_indexes'])\n",
    "        freq_df.to_pickle(f'1-set_support_{city}.pkl')\n",
    "\n",
    "    min_sup = sequence_count * support\n",
    "    freq_df = freq_df[freq_df['support']>=min_sup].reset_index(drop = True)\n",
    "    print(f'Frequent 1-sequences for city {city}: {len(freq_df)}')\n",
    "    \n",
    "    # iterate over frequent 1-sequences\n",
    "    for index in range(len(freq_df)):\n",
    "        items = set()\n",
    "        item_arr = freq_df.iloc[index]\n",
    "\n",
    "        # generate candidate 2-sequences\n",
    "        for i in item_arr['support_indexes']:\n",
    "            n = len(sequences[i])\n",
    "\n",
    "            for j in range(n-1):\n",
    "                if sequences[i][j] == item_arr['itemset']:\n",
    "                    for k in range(j+1, n):\n",
    "                        items.add((item_arr['itemset'],sequences[i][k]))\n",
    "                    break\n",
    "                    \n",
    "        # count occurrences of candidate 2-sequences\n",
    "        for item in items:\n",
    "            support = 0\n",
    "            support_indexes = []\n",
    "\n",
    "            # for m in range(sequence_count): # simple\n",
    "            for m in item_arr['support_indexes']: # improved\n",
    "                if isSubseq(sequences[m], item):\n",
    "                    support+=1\n",
    "                    support_indexes.append(m)\n",
    "                    \n",
    "            if support >= min_sup:\n",
    "                freq_df = pd.concat([freq_df, pd.DataFrame([[item, support, support_indexes]], columns = ['itemset', 'support', 'support_indexes'])])\n",
    "\n",
    "    freq_df.to_csv(f'frequent_itemset_{city}.csv', index = False)\n",
    "    print(f'Frequent sequences for city {city}: {len(freq_df)}')\n",
    "\n",
    "    return freq_df"
   ]
  },
  {
   "cell_type": "code",
   "execution_count": null,
   "id": "14efaca1-1ac3-4977-93fc-9397ec77cce8",
   "metadata": {},
   "outputs": [
    {
     "name": "stderr",
     "output_type": "stream",
     "text": [
      "C:\\Users\\ezrak\\AppData\\Local\\Temp\\ipykernel_18552\\3787372647.py:20: SettingWithCopyWarning: \n",
      "A value is trying to be set on a copy of a slice from a DataFrame.\n",
      "Try using .loc[row_indexer,col_indexer] = value instead\n",
      "\n",
      "See the caveats in the documentation: https://pandas.pydata.org/pandas-docs/stable/user_guide/indexing.html#returning-a-view-versus-a-copy\n",
      "  data['geom'] = data['geom'].apply(wkt.loads)\n",
      "C:\\Users\\ezrak\\AppData\\Local\\Temp\\ipykernel_18552\\3787372647.py:21: SettingWithCopyWarning: \n",
      "A value is trying to be set on a copy of a slice from a DataFrame.\n",
      "Try using .loc[row_indexer,col_indexer] = value instead\n",
      "\n",
      "See the caveats in the documentation: https://pandas.pydata.org/pandas-docs/stable/user_guide/indexing.html#returning-a-view-versus-a-copy\n",
      "  data['sequences'] = data['geom'].apply(lambda x: np.round(np.array(list(x.coords)))) # round to integer and create a list of coordinates\n"
     ]
    },
    {
     "name": "stdout",
     "output_type": "stream",
     "text": [
      "(495921, 6)\n",
      "Frequent 1-sequences for city D: 586\n",
      "Frequent sequences for city D: 587\n"
     ]
    },
    {
     "name": "stderr",
     "output_type": "stream",
     "text": [
      "C:\\Users\\ezrak\\AppData\\Local\\Temp\\ipykernel_18552\\3787372647.py:20: SettingWithCopyWarning: \n",
      "A value is trying to be set on a copy of a slice from a DataFrame.\n",
      "Try using .loc[row_indexer,col_indexer] = value instead\n",
      "\n",
      "See the caveats in the documentation: https://pandas.pydata.org/pandas-docs/stable/user_guide/indexing.html#returning-a-view-versus-a-copy\n",
      "  data['geom'] = data['geom'].apply(wkt.loads)\n",
      "C:\\Users\\ezrak\\AppData\\Local\\Temp\\ipykernel_18552\\3787372647.py:21: SettingWithCopyWarning: \n",
      "A value is trying to be set on a copy of a slice from a DataFrame.\n",
      "Try using .loc[row_indexer,col_indexer] = value instead\n",
      "\n",
      "See the caveats in the documentation: https://pandas.pydata.org/pandas-docs/stable/user_guide/indexing.html#returning-a-view-versus-a-copy\n",
      "  data['sequences'] = data['geom'].apply(lambda x: np.round(np.array(list(x.coords)))) # round to integer and create a list of coordinates\n"
     ]
    },
    {
     "name": "stdout",
     "output_type": "stream",
     "text": [
      "(1318140, 6)\n",
      "Frequent 1-sequences for city C: 952\n"
     ]
    }
   ],
   "source": [
    "start = time.time()\n",
    "\n",
    "for city in ['D','C','B']:\n",
    "    data = pd.read_csv(f'triplegs_{city}_31.csv')\n",
    "    freq_df = GSP(data, 0.001, city)\n",
    "\n",
    "end = time.time()\n",
    "print(f'{(end-start)/60} minutes')"
   ]
  },
  {
   "cell_type": "code",
   "execution_count": null,
   "id": "96941206-843d-4852-a421-eeed388e1700",
   "metadata": {},
   "outputs": [],
   "source": [
    "start = time.time()\n",
    "\n",
    "data = pd.concat([pd.read_csv('triplegs_A_first.csv'),pd.read_csv('triplegs_A_first.csv')])\n",
    "freq_df = GSP(data, 0.001, 'A')\n",
    "\n",
    "end = time.time()\n",
    "print(f'{(end-start)/60} minutes')"
   ]
  },
  {
   "cell_type": "code",
   "execution_count": null,
   "id": "a6d9745f-b526-44bf-af8c-7393e5de9858",
   "metadata": {},
   "outputs": [],
   "source": []
  }
 ],
 "metadata": {
  "kernelspec": {
   "display_name": "Python 3 (ipykernel)",
   "language": "python",
   "name": "python3"
  },
  "language_info": {
   "codemirror_mode": {
    "name": "ipython",
    "version": 3
   },
   "file_extension": ".py",
   "mimetype": "text/x-python",
   "name": "python",
   "nbconvert_exporter": "python",
   "pygments_lexer": "ipython3",
   "version": "3.10.12"
  }
 },
 "nbformat": 4,
 "nbformat_minor": 5
}
