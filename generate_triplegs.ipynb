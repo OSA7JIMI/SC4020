{
 "cells": [
  {
   "cell_type": "code",
   "execution_count": 1,
   "id": "8e4f523a-f4a6-4ef7-910f-f7fb4eb71cb0",
   "metadata": {},
   "outputs": [],
   "source": [
    "import pandas as pd\n",
    "import trackintel as ti\n",
    "from shapely.geometry import Point, LineString\n",
    "import geopandas as gpd"
   ]
  },
  {
   "cell_type": "code",
   "execution_count": 2,
   "id": "f6fd1050-2b5a-43ab-9b9e-11e275c7ba75",
   "metadata": {},
   "outputs": [
    {
     "name": "stderr",
     "output_type": "stream",
     "text": [
      "C:\\Users\\ezrak\\anaconda3\\envs\\ureca10\\lib\\site-packages\\trackintel\\io\\from_geopandas.py:430: UserWarning: Assuming UTC timezone for column tracked_at\n",
      "  warnings.warn(f\"Assuming UTC timezone for column {col_name}\")\n",
      "C:\\Users\\ezrak\\anaconda3\\envs\\ureca10\\lib\\site-packages\\trackintel\\preprocessing\\positionfixes.py:578: UserWarning: The positionfixes with ids [       5        6       14 ... 23912825 23912826 23912827] lead to invalid tripleg geometries. The resulting triplegs were omitted and the tripleg id of the positionfixes was set to nan\n",
      "  warnings.warn(warn_string)\n"
     ]
    },
    {
     "name": "stdout",
     "output_type": "stream",
     "text": [
      "(3167053, 4)\n"
     ]
    },
    {
     "name": "stderr",
     "output_type": "stream",
     "text": [
      "C:\\Users\\ezrak\\anaconda3\\envs\\ureca10\\lib\\site-packages\\trackintel\\io\\from_geopandas.py:430: UserWarning: Assuming UTC timezone for column tracked_at\n",
      "  warnings.warn(f\"Assuming UTC timezone for column {col_name}\")\n",
      "C:\\Users\\ezrak\\anaconda3\\envs\\ureca10\\lib\\site-packages\\trackintel\\preprocessing\\positionfixes.py:578: UserWarning: The positionfixes with ids [      38       39       54 ... 18006785 18006786 18006787] lead to invalid tripleg geometries. The resulting triplegs were omitted and the tripleg id of the positionfixes was set to nan\n",
      "  warnings.warn(warn_string)\n"
     ]
    },
    {
     "name": "stdout",
     "output_type": "stream",
     "text": [
      "(2382575, 4)\n"
     ]
    },
    {
     "name": "stderr",
     "output_type": "stream",
     "text": [
      "C:\\Users\\ezrak\\anaconda3\\envs\\ureca10\\lib\\site-packages\\trackintel\\io\\from_geopandas.py:430: UserWarning: Assuming UTC timezone for column tracked_at\n",
      "  warnings.warn(f\"Assuming UTC timezone for column {col_name}\")\n",
      "C:\\Users\\ezrak\\anaconda3\\envs\\ureca10\\lib\\site-packages\\trackintel\\preprocessing\\positionfixes.py:578: UserWarning: The positionfixes with ids [    934     935    1808 ... 7593000 7593334 7593335] lead to invalid tripleg geometries. The resulting triplegs were omitted and the tripleg id of the positionfixes was set to nan\n",
      "  warnings.warn(warn_string)\n"
     ]
    },
    {
     "name": "stdout",
     "output_type": "stream",
     "text": [
      "(849750, 4)\n"
     ]
    }
   ],
   "source": [
    "for city in ['B', 'C', 'D']:\n",
    "    data = pd.read_csv(f'city{city}_challengedata.csv.gz', engine = 'python')\n",
    "    data = data[data['x']<300]\n",
    "    \n",
    "    data = data.rename(columns = {'uid': 'user_id'})\n",
    "    data['geometry'] = data.apply(lambda x: Point(x.x, x.y), axis=1)\n",
    "    data['tracked_at'] = 30*60*(data['d'] * 48 + data['t'])*1000000000\n",
    "    data = data.drop(columns = ['t','x','y'])\n",
    "    \n",
    "    data = gpd.GeoDataFrame(data, crs=\"EPSG:4326\")\n",
    "    pfs = ti.io.read_positionfixes_gpd(data, geom_col='geometry', crs=\"EPSG:4326\")\n",
    "    \n",
    "    pfs, sp = ti.preprocessing.generate_staypoints(pfs, distance_metric=\"L2\", dist_threshold=50, gap_threshold=59.0, include_last=True)\n",
    "    pfs, tpls = ti.preprocessing.generate_triplegs(pfs, staypoints = sp, method = 'overlap_staypoints', gap_threshold=59.0)\n",
    "    \n",
    "    tpls.to_csv(f'triplegs_{city}.csv')\n",
    "    print(tpls.shape)"
   ]
  },
  {
   "cell_type": "code",
   "execution_count": null,
   "id": "3cd87bd5-429a-451a-9214-fedfc0a7c838",
   "metadata": {},
   "outputs": [],
   "source": [
    "data = pd.read_csv('cityA_groundtruthdata.csv.gz', engine = 'python')\n",
    "data = data[data['x']<300]\n",
    "\n",
    "data = data.rename(columns = {'uid': 'user_id'})\n",
    "data['geometry'] = data.apply(lambda x: Point(x.x, x.y), axis=1)\n",
    "data['tracked_at'] = 30*60*(data['d'] * 48 + data['t'])*1000000000\n",
    "data = data.drop(columns = ['t','x','y'])\n",
    "\n",
    "data = gpd.GeoDataFrame(data, crs=\"EPSG:4326\")\n",
    "pfs = ti.io.read_positionfixes_gpd(data, geom_col='geometry', crs=\"EPSG:4326\")\n",
    "\n",
    "pfs, sp = ti.preprocessing.generate_staypoints(pfs, distance_metric=\"L2\", dist_threshold=50, gap_threshold=59.0, include_last=True)\n",
    "pfs, tpls = ti.preprocessing.generate_triplegs(pfs, staypoints = sp, method = 'overlap_staypoints', gap_threshold=59.0)\n",
    "\n",
    "tpls.to_csv(f'triplegs_{city}.csv')\n",
    "print(tpls.shape)"
   ]
  },
  {
   "cell_type": "code",
   "execution_count": null,
   "id": "90f9386e-14b2-4fab-ac2b-c264d9ef80f2",
   "metadata": {},
   "outputs": [],
   "source": []
  }
 ],
 "metadata": {
  "kernelspec": {
   "display_name": "Python 3 (ipykernel)",
   "language": "python",
   "name": "python3"
  },
  "language_info": {
   "codemirror_mode": {
    "name": "ipython",
    "version": 3
   },
   "file_extension": ".py",
   "mimetype": "text/x-python",
   "name": "python",
   "nbconvert_exporter": "python",
   "pygments_lexer": "ipython3",
   "version": "3.10.12"
  }
 },
 "nbformat": 4,
 "nbformat_minor": 5
}
