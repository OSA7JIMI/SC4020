{
 "cells": [
  {
   "cell_type": "code",
   "execution_count": 1,
   "id": "8e4f523a-f4a6-4ef7-910f-f7fb4eb71cb0",
   "metadata": {},
   "outputs": [],
   "source": [
    "import pandas as pd\n",
    "import trackintel as ti\n",
    "from shapely.geometry import Point, LineString\n",
    "import geopandas as gpd"
   ]
  },
  {
   "cell_type": "code",
   "execution_count": 3,
   "id": "f6fd1050-2b5a-43ab-9b9e-11e275c7ba75",
   "metadata": {},
   "outputs": [
    {
     "name": "stderr",
     "output_type": "stream",
     "text": [
      "C:\\Users\\ezrak\\anaconda3\\envs\\ureca10\\lib\\site-packages\\trackintel\\io\\from_geopandas.py:430: UserWarning: Assuming UTC timezone for column tracked_at\n",
      "  warnings.warn(f\"Assuming UTC timezone for column {col_name}\")\n",
      "C:\\Users\\ezrak\\anaconda3\\envs\\ureca10\\lib\\site-packages\\trackintel\\preprocessing\\positionfixes.py:578: UserWarning: The positionfixes with ids [       5        6       14 ... 23912827 23913080 23913081] lead to invalid tripleg geometries. The resulting triplegs were omitted and the tripleg id of the positionfixes was set to nan\n",
      "  warnings.warn(warn_string)\n"
     ]
    },
    {
     "name": "stdout",
     "output_type": "stream",
     "text": [
      "(4227889, 4)\n"
     ]
    },
    {
     "name": "stderr",
     "output_type": "stream",
     "text": [
      "C:\\Users\\ezrak\\anaconda3\\envs\\ureca10\\lib\\site-packages\\trackintel\\io\\from_geopandas.py:430: UserWarning: Assuming UTC timezone for column tracked_at\n",
      "  warnings.warn(f\"Assuming UTC timezone for column {col_name}\")\n",
      "C:\\Users\\ezrak\\anaconda3\\envs\\ureca10\\lib\\site-packages\\trackintel\\preprocessing\\positionfixes.py:578: UserWarning: The positionfixes with ids [      38       39       54 ... 18006785 18006786 18006787] lead to invalid tripleg geometries. The resulting triplegs were omitted and the tripleg id of the positionfixes was set to nan\n",
      "  warnings.warn(warn_string)\n"
     ]
    },
    {
     "name": "stdout",
     "output_type": "stream",
     "text": [
      "(3207578, 4)\n"
     ]
    },
    {
     "name": "stderr",
     "output_type": "stream",
     "text": [
      "C:\\Users\\ezrak\\anaconda3\\envs\\ureca10\\lib\\site-packages\\trackintel\\io\\from_geopandas.py:430: UserWarning: Assuming UTC timezone for column tracked_at\n",
      "  warnings.warn(f\"Assuming UTC timezone for column {col_name}\")\n",
      "C:\\Users\\ezrak\\anaconda3\\envs\\ureca10\\lib\\site-packages\\trackintel\\preprocessing\\positionfixes.py:578: UserWarning: The positionfixes with ids [    934     935    1808 ... 7593000 7593334 7593335] lead to invalid tripleg geometries. The resulting triplegs were omitted and the tripleg id of the positionfixes was set to nan\n",
      "  warnings.warn(warn_string)\n"
     ]
    },
    {
     "name": "stdout",
     "output_type": "stream",
     "text": [
      "(1112211, 4)\n"
     ]
    }
   ],
   "source": [
    "for city in ['B', 'C', 'D']:\n",
    "    data = pd.read_csv(f'city{city}_challengedata.csv.gz', engine = 'python')\n",
    "    data = data[data['x']<300]\n",
    "    \n",
    "    data = data.rename(columns = {'uid': 'user_id'})\n",
    "    data['geometry'] = data.apply(lambda x: Point(x.x, x.y), axis=1)\n",
    "    data['tracked_at'] = 30*60*(data['d'] * 48 + data['t'])*1000000000\n",
    "    data = data.drop(columns = ['t','x','y'])\n",
    "    \n",
    "    data = gpd.GeoDataFrame(data, crs=\"EPSG:4326\")\n",
    "    pfs = ti.io.read_positionfixes_gpd(data, geom_col='geometry', crs=\"EPSG:4326\")\n",
    "\n",
    "    dist_t = 50\n",
    "    time_t = 31\n",
    "    gap_t = 59\n",
    "    \n",
    "    pfs, sp = ti.preprocessing.generate_staypoints(pfs, distance_metric=\"L2\", dist_threshold=dist_t, time_threshold = time_t, gap_threshold=gap_t, include_last=True)\n",
    "    pfs, tpls = ti.preprocessing.generate_triplegs(pfs, staypoints = sp, method = 'overlap_staypoints', gap_threshold=gap_t)\n",
    "    \n",
    "    tpls.to_csv(f'triplegs_{city}_{dist_t}_{time_t}_{gap_t}.csv')\n",
    "    print(tpls.shape)"
   ]
  },
  {
   "cell_type": "code",
   "execution_count": 3,
   "id": "3cd87bd5-429a-451a-9214-fedfc0a7c838",
   "metadata": {},
   "outputs": [
    {
     "name": "stderr",
     "output_type": "stream",
     "text": [
      "C:\\Users\\ezrak\\anaconda3\\envs\\ureca10\\lib\\site-packages\\trackintel\\io\\from_geopandas.py:430: UserWarning: Assuming UTC timezone for column tracked_at\n",
      "  warnings.warn(f\"Assuming UTC timezone for column {col_name}\")\n",
      "C:\\Users\\ezrak\\anaconda3\\envs\\ureca10\\lib\\site-packages\\trackintel\\preprocessing\\positionfixes.py:578: UserWarning: The positionfixes with ids [       0        1        2 ... 59935736 59935786 59935787] lead to invalid tripleg geometries. The resulting triplegs were omitted and the tripleg id of the positionfixes was set to nan\n",
      "  warnings.warn(warn_string)\n"
     ]
    },
    {
     "name": "stdout",
     "output_type": "stream",
     "text": [
      "(7821118, 4)\n"
     ]
    }
   ],
   "source": [
    "data = pd.read_csv('cityA_groundtruthdata.csv.gz', engine = 'python', nrows = 59935820)\n",
    "data = data[data['x']<300]\n",
    "\n",
    "data = data.rename(columns = {'uid': 'user_id'})\n",
    "data['geometry'] = data.apply(lambda x: Point(x.x, x.y), axis=1)\n",
    "data['tracked_at'] = 30*60*(data['d'] * 48 + data['t'])*1000000000\n",
    "data = data.drop(columns = ['t','x','y'])\n",
    "\n",
    "data = gpd.GeoDataFrame(data, crs=\"EPSG:4326\")\n",
    "pfs = ti.io.read_positionfixes_gpd(data, geom_col='geometry', crs=\"EPSG:4326\")\n",
    "\n",
    "dist_t = 50\n",
    "time_t = 31\n",
    "gap_t = 59\n",
    "\n",
    "pfs, sp = ti.preprocessing.generate_staypoints(pfs, distance_metric=\"L2\", dist_threshold=dist_t, time_threshold = time_t, gap_threshold=gap_t, include_last=True)\n",
    "pfs, tpls = ti.preprocessing.generate_triplegs(pfs, staypoints = sp, method = 'overlap_staypoints', gap_threshold=gap_t)\n",
    "\n",
    "tpls.to_csv('triplegs_A_first.csv')\n",
    "print(tpls.shape)"
   ]
  },
  {
   "cell_type": "code",
   "execution_count": 2,
   "id": "bc4a3cd5-d225-467f-bda6-d552fc41fd10",
   "metadata": {},
   "outputs": [
    {
     "name": "stderr",
     "output_type": "stream",
     "text": [
      "C:\\Users\\ezrak\\anaconda3\\envs\\ureca10\\lib\\site-packages\\trackintel\\io\\from_geopandas.py:430: UserWarning: Assuming UTC timezone for column tracked_at\n",
      "  warnings.warn(f\"Assuming UTC timezone for column {col_name}\")\n",
      "C:\\Users\\ezrak\\anaconda3\\envs\\ureca10\\lib\\site-packages\\trackintel\\preprocessing\\positionfixes.py:578: UserWarning: The positionfixes with ids [     166      167      294 ... 51599338 51599339 51599340] lead to invalid tripleg geometries. The resulting triplegs were omitted and the tripleg id of the positionfixes was set to nan\n",
      "  warnings.warn(warn_string)\n"
     ]
    },
    {
     "name": "stdout",
     "output_type": "stream",
     "text": [
      "(6866825, 4)\n"
     ]
    }
   ],
   "source": [
    "data = pd.read_csv('cityA_groundtruthdata.csv.gz', engine = 'python', skiprows = range(1,59935820+1))\n",
    "data = data[data['x']<300]\n",
    "\n",
    "data = data.rename(columns = {'uid': 'user_id'})\n",
    "data['geometry'] = data.apply(lambda x: Point(x.x, x.y), axis=1)\n",
    "data['tracked_at'] = 30*60*(data['d'] * 48 + data['t'])*1000000000\n",
    "data = data.drop(columns = ['t','x','y'])\n",
    "\n",
    "data = gpd.GeoDataFrame(data, crs=\"EPSG:4326\")\n",
    "pfs = ti.io.read_positionfixes_gpd(data, geom_col='geometry', crs=\"EPSG:4326\")\n",
    "\n",
    "dist_t = 50\n",
    "time_t = 31\n",
    "gap_t = 59\n",
    "\n",
    "pfs, sp = ti.preprocessing.generate_staypoints(pfs, distance_metric=\"L2\", dist_threshold=dist_t, time_threshold = time_t, gap_threshold=gap_t, include_last=True)\n",
    "pfs, tpls = ti.preprocessing.generate_triplegs(pfs, staypoints = sp, method = 'overlap_staypoints', gap_threshold=gap_t)\n",
    "\n",
    "tpls.to_csv('triplegs_A_second.csv')\n",
    "print(tpls.shape)"
   ]
  },
  {
   "cell_type": "code",
   "execution_count": 3,
   "id": "54d49e93-6662-4992-9e65-9664e7317764",
   "metadata": {},
   "outputs": [
    {
     "data": {
      "text/plain": [
       "14687943"
      ]
     },
     "execution_count": 3,
     "metadata": {},
     "output_type": "execute_result"
    }
   ],
   "source": [
    "7821118 + 6866825"
   ]
  },
  {
   "cell_type": "code",
   "execution_count": null,
   "id": "ab3046aa-c960-4aa4-918f-9506addcd7e7",
   "metadata": {},
   "outputs": [],
   "source": []
  }
 ],
 "metadata": {
  "kernelspec": {
   "display_name": "Python 3 (ipykernel)",
   "language": "python",
   "name": "python3"
  },
  "language_info": {
   "codemirror_mode": {
    "name": "ipython",
    "version": 3
   },
   "file_extension": ".py",
   "mimetype": "text/x-python",
   "name": "python",
   "nbconvert_exporter": "python",
   "pygments_lexer": "ipython3",
   "version": "3.10.12"
  }
 },
 "nbformat": 4,
 "nbformat_minor": 5
}
