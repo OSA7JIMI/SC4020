{
 "cells": [
  {
   "cell_type": "code",
   "execution_count": 1,
   "id": "b6a8b568-bf77-4463-b350-ad4520c84019",
   "metadata": {},
   "outputs": [],
   "source": [
    "import pandas as pd\n",
    "import numpy as np\n",
    "from shapely import wkt\n",
    "import datetime as dt\n",
    "import time"
   ]
  },
  {
   "cell_type": "code",
   "execution_count": 2,
   "id": "b2505a81-c0ff-42b2-8ec0-761248d45965",
   "metadata": {},
   "outputs": [],
   "source": [
    "def isSubseq(seq, sub):\n",
    "    n = len(seq)\n",
    "    m = len(sub)\n",
    "    j = 0\n",
    "\n",
    "    for i in range(n):\n",
    "        if seq[i] == sub[j]:\n",
    "            j+=1\n",
    "        if j == m:\n",
    "            return True\n",
    "    return False"
   ]
  },
  {
   "cell_type": "code",
   "execution_count": 3,
   "id": "94f1ca39-f422-4c0b-9042-9a2bb55ca28e",
   "metadata": {},
   "outputs": [],
   "source": [
    "start = time.time()"
   ]
  },
  {
   "cell_type": "code",
   "execution_count": null,
   "id": "14efaca1-1ac3-4977-93fc-9397ec77cce8",
   "metadata": {},
   "outputs": [
    {
     "name": "stdout",
     "output_type": "stream",
     "text": [
      "(382178, 6)\n",
      "Frequent 1-sequences for city D: 0\n",
      "Frequent sequences for city D: 0\n",
      "(981350, 6)\n",
      "Frequent 1-sequences for city C: 6\n",
      "Frequent sequences for city C: 6\n",
      "(1294493, 6)\n"
     ]
    }
   ],
   "source": [
    "for city in ['D','C','B']:\n",
    "    data = pd.read_csv(f'triplegs_{city}.csv')\n",
    "    \n",
    "    # Due to the scale of the data, limit the frequency mining to only the first month's data (30 days) to manage computational demands effectively.\n",
    "    data['finished_at'] = pd.to_datetime(data['finished_at'])\n",
    "    day31 = pd.date_range(\"1970-01-31\", periods=1, freq=\"h\")\n",
    "    day31 = pd.to_datetime(day31, utc = True)\n",
    "    data = data[data['finished_at']<day31[0]]\n",
    "    \n",
    "    data['geom'] = data['geom'].apply(wkt.loads)\n",
    "    data['sequences'] = data['geom'].apply(lambda x: np.round(np.array(list(x.coords)))) # force to integer and create a list of coordinates\n",
    "    data = data.reset_index(drop=True)\n",
    "\n",
    "    print(data.shape)\n",
    "\n",
    "    # use array to record subsequence counts with format [[elements], support, [support_indexes]]\n",
    "    freq_arr = []\n",
    "    sequence_count = len(data)\n",
    "    min_sup = sequence_count * 0.01\n",
    "    items = set()\n",
    "    sequences = []\n",
    "    \n",
    "    for i in range(sequence_count):\n",
    "        part = list(map(tuple, data['sequences'].iloc[i]))\n",
    "        sequences.append(part)\n",
    "    \n",
    "    for i in range(sequence_count):\n",
    "        for j in range(len(sequences[i])):\n",
    "            items.add(tuple(sequences[i][j]))\n",
    "            \n",
    "    # count occurrences of candidate 1-sequences\n",
    "    for item in items:\n",
    "        support = 0\n",
    "        support_indexes = []\n",
    "        for i in range(sequence_count):\n",
    "            if item in sequences[i]:\n",
    "                support+=1\n",
    "                support_indexes.append(i)\n",
    "        if support >= min_sup:\n",
    "            freq_arr.append([item, support, support_indexes])\n",
    "\n",
    "    print(f'Frequent 1-sequences for city {city}: {len(freq_arr)}')\n",
    "    \n",
    "    # iterate over frequent 1-sequences\n",
    "    freq_arr_1 = freq_arr.copy()\n",
    "    for item_arr in freq_arr_1:\n",
    "        items = set()\n",
    "\n",
    "        # generate candidate 2-sequences\n",
    "        for i in item_arr[2]:\n",
    "            n = len(sequences[i])\n",
    "\n",
    "            for j in range(n-1):\n",
    "                if sequences[i][j] == item_arr[0]:\n",
    "                    for k in range(j+1, n):\n",
    "                        items.add((item_arr[0],sequences[i][k]))\n",
    "                    break\n",
    "                    \n",
    "        # count occurrences of candidate 2-sequences\n",
    "        for item in items:\n",
    "            support = 0\n",
    "            support_indexes = []\n",
    "            \n",
    "            for m in item_arr[2]:\n",
    "                if isSubseq(sequences[m], item):\n",
    "                    support+=1\n",
    "                    support_indexes.append(m)\n",
    "                    \n",
    "            if support >= min_sup:\n",
    "                freq_arr.append([item, support, support_indexes])\n",
    "\n",
    "    freq_df = pd.DataFrame(freq_arr, columns = ['itemset', 'support', 'support_indices'])\n",
    "    freq_df.to_csv(f'frequent_subsequences_{city}.csv', index = False)\n",
    "    print(f'Frequent sequences for city {city}: {len(freq_arr)}')"
   ]
  },
  {
   "cell_type": "code",
   "execution_count": null,
   "id": "96941206-843d-4852-a421-eeed388e1700",
   "metadata": {},
   "outputs": [],
   "source": [
    "end = time.time()\n",
    "print(f'{(end-start)/60} minutes')"
   ]
  },
  {
   "cell_type": "code",
   "execution_count": null,
   "id": "1af5877b-e27a-41dc-9042-6013f29a233d",
   "metadata": {},
   "outputs": [],
   "source": []
  }
 ],
 "metadata": {
  "kernelspec": {
   "display_name": "Python 3 (ipykernel)",
   "language": "python",
   "name": "python3"
  },
  "language_info": {
   "codemirror_mode": {
    "name": "ipython",
    "version": 3
   },
   "file_extension": ".py",
   "mimetype": "text/x-python",
   "name": "python",
   "nbconvert_exporter": "python",
   "pygments_lexer": "ipython3",
   "version": "3.10.12"
  }
 },
 "nbformat": 4,
 "nbformat_minor": 5
}
