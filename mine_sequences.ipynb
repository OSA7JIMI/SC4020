{
 "cells": [
  {
   "cell_type": "code",
   "execution_count": null,
   "id": "14efaca1-1ac3-4977-93fc-9397ec77cce8",
   "metadata": {},
   "outputs": [],
   "source": [
    "for city in ['B', 'C', 'D']:\n",
    "    data = pd.read_csv(f'con2_triplegs_{city}.csv')\n",
    "    \n",
    "    # Due to the scale of the data, limit the frequency mining to only the first month's data (30 days) to manage computational demands effectively.\n",
    "    data['finished_at'] = pd.to_datetime(data['finished_at'])\n",
    "    day31 = pd.date_range(\"1970-01-31\", periods=1, freq=\"h\")\n",
    "    day31 = pd.to_datetime(day31, utc = True)\n",
    "    data = data[data['finished_at']<day31[0]]\n",
    "\n",
    "    # add rest of code here when finalised"
   ]
  },
  {
   "cell_type": "code",
   "execution_count": 1,
   "id": "b6a8b568-bf77-4463-b350-ad4520c84019",
   "metadata": {},
   "outputs": [],
   "source": [
    "import pandas as pd\n",
    "import numpy as np\n",
    "from shapely import wkt\n",
    "import datetime as dt\n",
    "import time"
   ]
  },
  {
   "cell_type": "code",
   "execution_count": 2,
   "id": "2f8c9c25-5798-49e7-a751-e46e49c20e13",
   "metadata": {},
   "outputs": [],
   "source": [
    "data = pd.read_csv('triplegs_D.csv')\n",
    "\n",
    "data['finished_at'] = pd.to_datetime(data['finished_at'])\n",
    "day31 = pd.date_range(\"1970-01-31\", periods=1, freq=\"h\")\n",
    "day31 = pd.to_datetime(day31, utc = True)\n",
    "data = data[data['finished_at']<day31[0]]\n",
    "\n",
    "data['geom'] = data['geom'].apply(wkt.loads)\n",
    "data['sequences'] = data['geom'].apply(lambda x: np.round(np.array(list(x.coords))))\n",
    "data = data.reset_index(drop=True)"
   ]
  },
  {
   "cell_type": "code",
   "execution_count": 3,
   "id": "3cff4279-d9e9-4dff-a42a-4f47c0531ca0",
   "metadata": {},
   "outputs": [
    {
     "data": {
      "text/plain": [
       "(382178, 6)"
      ]
     },
     "execution_count": 3,
     "metadata": {},
     "output_type": "execute_result"
    }
   ],
   "source": [
    "data.shape"
   ]
  },
  {
   "cell_type": "code",
   "execution_count": 4,
   "id": "b4a86467-ca5b-4dc5-a6ec-b5d9ae149d0a",
   "metadata": {},
   "outputs": [],
   "source": [
    "# DELETE after algo confirmed\n",
    "subset = 1000"
   ]
  },
  {
   "cell_type": "code",
   "execution_count": 5,
   "id": "aea56cb3-5b35-4750-afa6-63efa8882de7",
   "metadata": {},
   "outputs": [],
   "source": [
    "# use array to record subsequence counts with format [element 1, element 2, ..element n, support, [support_indexes]]\n",
    "freq_arr = []\n",
    "sequence_count = len(data.iloc[:subset])\n",
    "min_sup = sequence_count * 0.02\n",
    "items = set()\n",
    "sequences = []\n",
    "\n",
    "for i in range(sequence_count):\n",
    "    part = list(map(tuple, data.iloc[:subset]['sequences'].iloc[i]))\n",
    "    sequences.append(part)\n",
    "\n",
    "for i in range(sequence_count):\n",
    "    for j in range(len(sequences[i])):\n",
    "        items.add(tuple(sequences[i][j]))"
   ]
  },
  {
   "cell_type": "code",
   "execution_count": 6,
   "id": "94aabe98-cbfe-44cb-b37e-f00685483aa3",
   "metadata": {},
   "outputs": [
    {
     "name": "stdout",
     "output_type": "stream",
     "text": [
      "           itemset  support                                    support_indexes\n",
      "15  (112.0, 133.0)       97  [512, 514, 516, 517, 518, 519, 520, 521, 523, ...\n",
      "19    (191.0, 1.0)       85  [185, 187, 188, 189, 190, 191, 192, 193, 194, ...\n",
      "8     (190.0, 2.0)       80  [185, 186, 187, 188, 189, 190, 191, 192, 194, ...\n",
      "20  (112.0, 131.0)       63  [517, 518, 519, 520, 521, 522, 523, 524, 525, ...\n",
      "5    (121.0, 98.0)       58  [383, 384, 385, 386, 387, 388, 391, 392, 393, ...\n",
      "16     (32.0, 5.0)       44  [35, 36, 38, 39, 40, 45, 48, 50, 52, 53, 56, 5...\n",
      "18  (116.0, 102.0)       44  [384, 388, 389, 390, 391, 392, 395, 396, 397, ...\n",
      "14  (113.0, 135.0)       42  [549, 560, 923, 924, 925, 927, 928, 929, 931, ...\n",
      "23  (100.0, 111.0)       38  [141, 750, 751, 752, 753, 761, 762, 763, 764, ...\n",
      "2    (123.0, 55.0)       36  [816, 818, 819, 822, 823, 825, 826, 827, 828, ...\n",
      "6    (159.0, 52.0)       35  [673, 675, 681, 682, 683, 687, 688, 689, 690, ...\n",
      "7   (115.0, 134.0)       32  [563, 574, 927, 929, 930, 931, 932, 933, 938, ...\n",
      "0     (76.0, 92.0)       29  [121, 124, 126, 131, 132, 134, 135, 137, 140, ...\n",
      "22   (143.0, 77.0)       26  [677, 678, 679, 684, 685, 686, 693, 696, 697, ...\n",
      "11    (92.0, 99.0)       25  [296, 297, 300, 301, 302, 303, 304, 306, 307, ...\n",
      "21   (120.0, 98.0)       25  [19, 383, 386, 393, 400, 401, 404, 407, 410, 4...\n",
      "12  (100.0, 112.0)       24  [751, 753, 754, 759, 763, 764, 765, 766, 767, ...\n",
      "24   (158.0, 52.0)       23  [673, 675, 680, 681, 688, 689, 690, 691, 695, ...\n",
      "25  (114.0, 134.0)       23  [560, 566, 929, 937, 939, 941, 945, 946, 956, ...\n",
      "10  (111.0, 131.0)       23  [512, 519, 546, 556, 560, 562, 563, 567, 568, ...\n",
      "4      (33.0, 4.0)       23  [80, 83, 84, 89, 91, 92, 95, 96, 98, 99, 100, ...\n",
      "13  (128.0, 183.0)       22  [755, 756, 757, 758, 760, 769, 770, 773, 774, ...\n",
      "9   (100.0, 122.0)       21  [876, 881, 883, 886, 889, 891, 899, 900, 903, ...\n",
      "17  (112.0, 132.0)       20  [513, 527, 528, 529, 530, 533, 534, 535, 536, ...\n",
      "1      (33.0, 5.0)       20  [40, 44, 45, 49, 50, 51, 52, 53, 54, 55, 60, 6...\n",
      "3     (192.0, 2.0)       20  [185, 191, 195, 197, 198, 202, 206, 209, 215, ...\n"
     ]
    }
   ],
   "source": [
    "# count occurrences of candidate 1-sequences\n",
    "for item in items:\n",
    "    support = 0\n",
    "    support_indexes = []\n",
    "    for i in range(sequence_count):\n",
    "        if item in sequences[i]:\n",
    "            support+=1\n",
    "            support_indexes.append(i)\n",
    "    if support >= min_sup:\n",
    "        freq_arr.append([item, support, support_indexes])\n",
    "\n",
    "print(pd.DataFrame(freq_arr, columns = ['itemset', 'support', 'support_indexes']).sort_values('support', ascending = False))\n",
    "\n",
    "items = set()"
   ]
  },
  {
   "cell_type": "code",
   "execution_count": 7,
   "id": "b2505a81-c0ff-42b2-8ec0-761248d45965",
   "metadata": {},
   "outputs": [],
   "source": [
    "def isSubseq(seq, sub):\n",
    "    n = len(seq)\n",
    "    m = len(sub)\n",
    "    j = 0\n",
    "\n",
    "    for i in range(n):\n",
    "        if seq[i] == sub[j]:\n",
    "            j+=1\n",
    "        if j == m:\n",
    "            return True\n",
    "    return False"
   ]
  },
  {
   "cell_type": "code",
   "execution_count": 8,
   "id": "c0a6a90b-b249-47d9-b3d7-5c9d3447a7db",
   "metadata": {},
   "outputs": [],
   "source": [
    "# generate candidate 2-sequences\n",
    "for item_arr in freq_arr:\n",
    "    for i in item_arr[2]:\n",
    "        n = len(sequences[i])\n",
    "        for j in range(n-1):\n",
    "            if sequences[i][j] == item_arr[0]:\n",
    "                for k in range(j+1, n):\n",
    "                    items.add((item_arr[0],sequences[i][k]))\n",
    "                break"
   ]
  },
  {
   "cell_type": "code",
   "execution_count": 9,
   "id": "3194369f-b38b-44cc-b784-cae97a9e7acc",
   "metadata": {},
   "outputs": [
    {
     "name": "stdout",
     "output_type": "stream",
     "text": [
      "                             itemset  support  \\\n",
      "15                    (112.0, 133.0)       97   \n",
      "19                      (191.0, 1.0)       85   \n",
      "8                       (190.0, 2.0)       80   \n",
      "20                    (112.0, 131.0)       63   \n",
      "38      ((190.0, 2.0), (191.0, 1.0))       62   \n",
      "5                      (121.0, 98.0)       58   \n",
      "27  ((112.0, 131.0), (112.0, 133.0))       50   \n",
      "34      ((191.0, 1.0), (190.0, 2.0))       48   \n",
      "36      ((191.0, 1.0), (191.0, 1.0))       45   \n",
      "26  ((112.0, 133.0), (112.0, 133.0))       44   \n",
      "16                       (32.0, 5.0)       44   \n",
      "18                    (116.0, 102.0)       44   \n",
      "14                    (113.0, 135.0)       42   \n",
      "23                    (100.0, 111.0)       38   \n",
      "2                      (123.0, 55.0)       36   \n",
      "32      ((190.0, 2.0), (190.0, 2.0))       35   \n",
      "6                      (159.0, 52.0)       35   \n",
      "7                     (115.0, 134.0)       32   \n",
      "28  ((112.0, 133.0), (112.0, 131.0))       32   \n",
      "0                       (76.0, 92.0)       29   \n",
      "33    ((159.0, 52.0), (159.0, 52.0))       27   \n",
      "22                     (143.0, 77.0)       26   \n",
      "21                     (120.0, 98.0)       25   \n",
      "11                      (92.0, 99.0)       25   \n",
      "12                    (100.0, 112.0)       24   \n",
      "29  ((112.0, 131.0), (112.0, 131.0))       24   \n",
      "25                    (114.0, 134.0)       23   \n",
      "24                     (158.0, 52.0)       23   \n",
      "10                    (111.0, 131.0)       23   \n",
      "4                        (33.0, 4.0)       23   \n",
      "13                    (128.0, 183.0)       22   \n",
      "30    ((121.0, 98.0), (121.0, 98.0))       21   \n",
      "9                     (100.0, 122.0)       21   \n",
      "35    ((158.0, 52.0), (159.0, 52.0))       21   \n",
      "37  ((113.0, 135.0), (113.0, 135.0))       21   \n",
      "3                       (192.0, 2.0)       20   \n",
      "31  ((116.0, 102.0), (116.0, 102.0))       20   \n",
      "17                    (112.0, 132.0)       20   \n",
      "1                        (33.0, 5.0)       20   \n",
      "\n",
      "                                      support_indexes  \n",
      "15  [512, 514, 516, 517, 518, 519, 520, 521, 523, ...  \n",
      "19  [185, 187, 188, 189, 190, 191, 192, 193, 194, ...  \n",
      "8   [185, 186, 187, 188, 189, 190, 191, 192, 194, ...  \n",
      "20  [517, 518, 519, 520, 521, 522, 523, 524, 525, ...  \n",
      "38  [185, 187, 189, 190, 191, 192, 194, 195, 196, ...  \n",
      "5   [383, 384, 385, 386, 387, 388, 391, 392, 393, ...  \n",
      "27  [517, 518, 519, 521, 523, 524, 525, 541, 542, ...  \n",
      "34  [188, 189, 191, 194, 195, 201, 203, 204, 205, ...  \n",
      "36  [185, 189, 190, 191, 194, 195, 198, 200, 201, ...  \n",
      "26  [517, 518, 519, 521, 523, 534, 541, 542, 545, ...  \n",
      "16  [35, 36, 38, 39, 40, 45, 48, 50, 52, 53, 56, 5...  \n",
      "18  [384, 388, 389, 390, 391, 392, 395, 396, 397, ...  \n",
      "14  [549, 560, 923, 924, 925, 927, 928, 929, 931, ...  \n",
      "23  [141, 750, 751, 752, 753, 761, 762, 763, 764, ...  \n",
      "2   [816, 818, 819, 822, 823, 825, 826, 827, 828, ...  \n",
      "32  [185, 186, 187, 188, 191, 194, 204, 205, 209, ...  \n",
      "6   [673, 675, 681, 682, 683, 687, 688, 689, 690, ...  \n",
      "7   [563, 574, 927, 929, 930, 931, 932, 933, 938, ...  \n",
      "28  [517, 520, 521, 523, 541, 542, 544, 545, 551, ...  \n",
      "0   [121, 124, 126, 131, 132, 134, 135, 137, 140, ...  \n",
      "33  [673, 675, 681, 682, 687, 688, 689, 690, 691, ...  \n",
      "22  [677, 678, 679, 684, 685, 686, 693, 696, 697, ...  \n",
      "21  [19, 383, 386, 393, 400, 401, 404, 407, 410, 4...  \n",
      "11  [296, 297, 300, 301, 302, 303, 304, 306, 307, ...  \n",
      "12  [751, 753, 754, 759, 763, 764, 765, 766, 767, ...  \n",
      "29  [517, 523, 544, 545, 551, 553, 559, 563, 565, ...  \n",
      "25  [560, 566, 929, 937, 939, 941, 945, 946, 956, ...  \n",
      "24  [673, 675, 680, 681, 688, 689, 690, 691, 695, ...  \n",
      "10  [512, 519, 546, 556, 560, 562, 563, 567, 568, ...  \n",
      "4   [80, 83, 84, 89, 91, 92, 95, 96, 98, 99, 100, ...  \n",
      "13  [755, 756, 757, 758, 760, 769, 770, 773, 774, ...  \n",
      "30  [384, 386, 393, 400, 402, 407, 409, 411, 417, ...  \n",
      "9   [876, 881, 883, 886, 889, 891, 899, 900, 903, ...  \n",
      "35  [673, 675, 681, 688, 689, 690, 691, 695, 698, ...  \n",
      "37  [923, 927, 928, 929, 931, 932, 933, 941, 945, ...  \n",
      "3   [185, 191, 195, 197, 198, 202, 206, 209, 215, ...  \n",
      "31  [384, 392, 395, 398, 399, 402, 409, 417, 428, ...  \n",
      "17  [513, 527, 528, 529, 530, 533, 534, 535, 536, ...  \n",
      "1   [40, 44, 45, 49, 50, 51, 52, 53, 54, 55, 60, 6...  \n"
     ]
    }
   ],
   "source": [
    "# count occurrences of candidate 2-sequences\n",
    "for item in items:\n",
    "    support = 0\n",
    "    support_indexes = []\n",
    "    for i in range(sequence_count):\n",
    "        if isSubseq(sequences[i], item):\n",
    "            support+=1\n",
    "            support_indexes.append(i)\n",
    "    if support >= min_sup:\n",
    "        freq_arr.append([item, support, support_indexes])\n",
    "\n",
    "print(pd.DataFrame(freq_arr, columns = ['itemset', 'support', 'support_indexes']).sort_values('support', ascending = False))\n",
    "        \n",
    "items = set() # reset sequences set"
   ]
  },
  {
   "cell_type": "code",
   "execution_count": null,
   "id": "96941206-843d-4852-a421-eeed388e1700",
   "metadata": {},
   "outputs": [],
   "source": []
  }
 ],
 "metadata": {
  "kernelspec": {
   "display_name": "Python 3 (ipykernel)",
   "language": "python",
   "name": "python3"
  },
  "language_info": {
   "codemirror_mode": {
    "name": "ipython",
    "version": 3
   },
   "file_extension": ".py",
   "mimetype": "text/x-python",
   "name": "python",
   "nbconvert_exporter": "python",
   "pygments_lexer": "ipython3",
   "version": "3.10.12"
  }
 },
 "nbformat": 4,
 "nbformat_minor": 5
}
